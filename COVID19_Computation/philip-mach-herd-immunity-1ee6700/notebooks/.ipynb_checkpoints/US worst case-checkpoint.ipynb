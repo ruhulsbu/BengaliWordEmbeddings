{
 "cells": [
  {
   "cell_type": "markdown",
   "metadata": {},
   "source": [
    "## US worst-case scenarios calculator\n",
    "**Philip Machanick**\\\n",
    "*17 April 2020*\n",
    "\n",
    "Explores exponential growth from the known value of US cases on 20 March 2020.\n",
    "\n",
    "Also graphs doubling time for March, based on the “rule-of-70”: doubling time approximated by\n",
    "$$\n",
    "\\frac{0.7}{growth}\n",
    "$$\n",
    "\n",
    "which holds true as long as the growth rate is really exponential (“rule-of-70” derives from expressing the fractions as percentages so $0.7 = 70\\%$; $0.7 \\approx \\ln{2}$).\n",
    "\n",
    "**Source**\n",
    "\n",
    "Bermingham, J. R. (2003). Exponential population growth and doubling times: Are they dead or merely quiescent? *Population and Environment*, 24(4), 313-327."
   ]
  },
  {
   "cell_type": "code",
   "execution_count": 151,
   "metadata": {
    "collapsed": true
   },
   "outputs": [],
   "source": [
    "%%capture\n",
    "import os\n",
    "owd = os.getcwd()\n",
    "os.chdir('../')\n",
    "%run setup.py install\n",
    "os.chdir(owd)"
   ]
  },
  {
   "cell_type": "code",
   "execution_count": 152,
   "metadata": {
    "collapsed": true
   },
   "outputs": [],
   "source": [
    "\n",
    "%matplotlib inline\n",
    "import numpy as np\n",
    "import matplotlib.pyplot as plt\n",
    "import datetime\n",
    "import matplotlib.ticker as ticker"
   ]
  },
  {
   "cell_type": "code",
   "execution_count": 153,
   "metadata": {
    "collapsed": true
   },
   "outputs": [],
   "source": [
    "# set up parameters\n",
    "initialcases = 19383\n",
    "startdate = datetime.date(2020,3,20)\n",
    "enddate = datetime.date(2020,4,10)\n",
    "startcase = 19551\n",
    "highIncreaseRate = 1.4\n",
    "lowIncreaseRate = 1.24\n",
    "\n",
    "initialdoublingtime = 6.8 # calculated by hand: easier to initialised array and not significant to argument"
   ]
  },
  {
   "cell_type": "code",
   "execution_count": 154,
   "metadata": {
    "collapsed": true
   },
   "outputs": [],
   "source": [
    "dates = np.arange (startdate, enddate, 1)\n",
    "caseslow = np.arange (1.0, dates.size+1)\n",
    "caseshigh = np.arange (1.0, dates.size+1)\n",
    "\n",
    "def expGrowth (start, growth):\n",
    "    return start * growth;\n",
    "\n",
    "# uncomment to see data values\n",
    "# print (expGrowth (1, 1.4))\n",
    "\n",
    "# print (cases, cases.size, dates.size)\n",
    "# print (dates)\n",
    "currentCaseHigh = startcase\n",
    "currentCaseLow = startcase\n",
    "for i in range(0,dates.size):\n",
    "    caseshigh[i] = currentCaseHigh/1000000.0\n",
    "    currentCaseHigh = expGrowth(currentCaseHigh,highIncreaseRate)\n",
    "    caseslow[i] = currentCaseLow/1000000.0\n",
    "    currentCaseLow = expGrowth(currentCaseHigh,lowIncreaseRate)"
   ]
  },
  {
   "cell_type": "code",
   "execution_count": 155,
   "metadata": {
    "collapsed": false
   },
   "outputs": [
    {
     "data": {
      "text/plain": [
       "(array([737505., 737507., 737509., 737511., 737513., 737515., 737516.,\n",
       "        737518., 737520., 737522., 737524.]),\n",
       " <a list of 11 Text major ticklabel objects>)"
      ]
     },
     "execution_count": 155,
     "metadata": {},
     "output_type": "execute_result"
    },
    {
     "data": {
      "image/png": "[encoded data removed]",
      "text/plain": [
       "<Figure size 432x288 with 1 Axes>"
      ]
     },
     "metadata": {
      "needs_background": "light"
     },
     "output_type": "display_data"
    }
   ],
   "source": [
    "plt.autoscale(enable=True, axis='x', tight=True)\n",
    "plt.rcParams.update({'font.size': 12})\n",
    "plt.plot(dates, caseslow, '-', color=\"red\", label='$US worst case$', lw=4)\n",
    "plt.plot(dates, caseshigh, '-', color=\"blue\", label='$US worst case$', lw=4)\n",
    "\n",
    "plt.ylabel('cases (millions)')\n",
    "plt.xticks(rotation=45, ha='right')\n",
    "\n",
    "# uncomment and correct file path to save the PDF\n",
    "# plt.savefig(\"/Users/philip/Desktop/USworstcase.pdf\", bbox_inches='tight');"
   ]
  },
  {
   "cell_type": "code",
   "execution_count": 156,
   "metadata": {
    "collapsed": true
   },
   "outputs": [],
   "source": [
    "# from Worldometer, arcived at\n",
    "# http://web.archive.org/web/20200422135436/https://www.worldometers.info/coronavirus/\n",
    "\n",
    "marchcases = [\n",
    "['2020-03--01',75,0.102941176470588,initialdoublingtime],\n",
    "['2020-03-02',100,0,0],\n",
    "['2020-03-03',124,0,0],\n",
    "['2020-03-04',158,0,0],\n",
    "['2020-03-05',221,0,0],\n",
    "['2020-03-06',319,0,0],\n",
    "['2020-03-07',435,0,0],\n",
    "['2020-03-08',541,0,0],\n",
    "['2020-03-09',704,0,0],\n",
    "['2020-03-10',994,0,0],\n",
    "['2020-03-11',1301,0,0],\n",
    "['2020-03-12',1630,0,0],\n",
    "['2020-03-13',2183,0,0],\n",
    "['2020-03-14',2771,0,0],\n",
    "['2020-03-15',3617,0,0],\n",
    "['2020-03-16',4604,0,0],\n",
    "['2020-03-17',6357,0,0],\n",
    "['2020-03-18',9317,0,0],\n",
    "['2020-03-19',13898,0,0],\n",
    "['2020-03-20',19551,0,0],\n",
    "['2020-03-21',24418,0,0],\n",
    "['2020-03-22',33840,0,0],\n",
    "['2020-03-23',44189,0,0],\n",
    "['2020-03-24',55398,0,0],\n",
    "['2020-03-25',68905,0,0],\n",
    "['2020-03-26',86379,0,0],\n",
    "['2020-03-27',105217,0,0],\n",
    "['2020-03-28',124788,0,0],\n",
    "['2020-03-29',144980,0,0],\n",
    "['2020-03-30',165851,0,0],\n",
    "['2020-03-31',190930,0,0]\n",
    "]"
   ]
  },
  {
   "cell_type": "code",
   "execution_count": 157,
   "metadata": {
    "collapsed": true
   },
   "outputs": [],
   "source": [
    "for i in range(len(marchcases)):\n",
    "    if marchcases[i][2] == 0.0:\n",
    "        marchcases[i][2] = marchcases[i][1]/marchcases[i-1][1]-1\n",
    "    if marchcases[i][3] == 0.0:\n",
    "        marchcases[i][3] = 0.7/marchcases[i][2];\n",
    "\n",
    "        # uncomment to check output\n",
    "#print(marchcases)\n",
    "#print((marchcases[1][2]))"
   ]
  },
  {
   "cell_type": "code",
   "execution_count": 158,
   "metadata": {
    "collapsed": true
   },
   "outputs": [],
   "source": [
    "doublingtimes = [row[3] for row in marchcases]\n",
    "dates = [row[0] for row in marchcases];"
   ]
  },
  {
   "cell_type": "code",
   "execution_count": 159,
   "metadata": {
    "collapsed": false
   },
   "outputs": [
    {
     "data": {
      "text/plain": [
       "([<matplotlib.axis.XTick at 0x11bf6a290>,\n",
       "  <matplotlib.axis.XTick at 0x11bd91a90>,\n",
       "  <matplotlib.axis.XTick at 0x11bf5b690>,\n",
       "  <matplotlib.axis.XTick at 0x11bdc7a90>,\n",
       "  <matplotlib.axis.XTick at 0x11bdc76d0>,\n",
       "  <matplotlib.axis.XTick at 0x11bdac390>,\n",
       "  <matplotlib.axis.XTick at 0x11bdacc10>,\n",
       "  <matplotlib.axis.XTick at 0x11bdc7450>,\n",
       "  <matplotlib.axis.XTick at 0x11bdac0d0>,\n",
       "  <matplotlib.axis.XTick at 0x11bbf87d0>,\n",
       "  <matplotlib.axis.XTick at 0x11bbf8e50>,\n",
       "  <matplotlib.axis.XTick at 0x11bbf8b90>,\n",
       "  <matplotlib.axis.XTick at 0x11bc21510>,\n",
       "  <matplotlib.axis.XTick at 0x11bc21190>,\n",
       "  <matplotlib.axis.XTick at 0x11bc21b10>,\n",
       "  <matplotlib.axis.XTick at 0x11bc197d0>],\n",
       " <a list of 16 Text major ticklabel objects>)"
      ]
     },
     "execution_count": 159,
     "metadata": {},
     "output_type": "execute_result"
    },
    {
     "data": {
      "image/png": "[encoded data removed]",
      "text/plain": [
       "<Figure size 432x288 with 1 Axes>"
      ]
     },
     "metadata": {
      "needs_background": "light"
     },
     "output_type": "display_data"
    }
   ],
   "source": [
    "plt.autoscale(enable=True, axis='x', tight=True)\n",
    "plt.rcParams.update({'font.size': 18})\n",
    "plt.plot(dates, doublingtimes, '-', color=\"#348ABD\", label='$Herd Immunity$', lw=4)\n",
    "plt.xlabel('date')\n",
    "plt.ylabel('doubling time')\n",
    "plt.xticks(rotation=45, ha='right')\n",
    "plt.xticks(np.arange(0, 31, step=2))\n",
    "\n",
    "# uncomment and adjust path to save PDF\n",
    "# plt.savefig(\"/Users/philip/Desktop/doublingtime.pdf\", bbox_inches='tight');"
   ]
  },
  {
   "cell_type": "code",
   "execution_count": null,
   "metadata": {
    "collapsed": true
   },
   "outputs": [],
   "source": []
  }
 ],
 "metadata": {
  "kernelspec": {
   "display_name": "Python 3",
   "language": "python",
   "name": "python3"
  },
  "language_info": {
   "codemirror_mode": {
    "name": "ipython",
    "version": 3
   },
   "file_extension": ".py",
   "mimetype": "text/x-python",
   "name": "python",
   "nbconvert_exporter": "python",
   "pygments_lexer": "ipython3",
   "version": "3.6.0"
  }
 },
 "nbformat": 4,
 "nbformat_minor": 2
}

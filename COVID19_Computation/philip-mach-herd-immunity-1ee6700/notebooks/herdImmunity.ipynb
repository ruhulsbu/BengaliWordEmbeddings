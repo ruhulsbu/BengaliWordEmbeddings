{
 "cells": [
  {
   "cell_type": "markdown",
   "metadata": {},
   "source": [
    "## Herd immunity calculator\n",
    "**Philip Machanick**\\\n",
    "*17 April 2020*\n",
    "\n",
    "Assumes fixed value of $R_0$, assuming $E=1$, i.e., immunity is 100% post-recovery (or post-vaccination if one exists).\n",
    "\n",
    "Calculated as\n",
    "$$\n",
    "P_{herd} = 1 - \\frac{1}{1-R_{0}}\n",
    "$$\n",
    "\n",
    "Where $R_0$ is the basic reproduction ratio, i.e., the mean number of new infections per infected person.\n",
    "\n",
    "**Reference**\\\n",
    "Paul Fine, Ken Eames, and David L Heymann. “Herd immunity”: a rough guide. *Clinical Infectious Diseases*, 52(7):911–916, 2011"
   ]
  },
  {
   "cell_type": "code",
   "execution_count": 1,
   "metadata": {
    "collapsed": true
   },
   "outputs": [],
   "source": [
    "%%capture\n",
    "import os\n",
    "owd = os.getcwd()\n",
    "os.chdir('../')\n",
    "%run setup.py install\n",
    "os.chdir(owd)"
   ]
  },
  {
   "cell_type": "code",
   "execution_count": 2,
   "metadata": {
    "collapsed": true
   },
   "outputs": [],
   "source": [
    "\n",
    "%matplotlib inline\n",
    "import numpy as np\n",
    "import matplotlib.pyplot as plt"
   ]
  },
  {
   "cell_type": "code",
   "execution_count": 3,
   "metadata": {
    "collapsed": true
   },
   "outputs": [],
   "source": [
    "# set up parameters\n",
    "R0min = 1\n",
    "R0max = 10\n",
    "R0stepsize = 0.01\n",
    "E = 1;  # effectiveness of vaccine: 1 = 100%"
   ]
  },
  {
   "cell_type": "code",
   "execution_count": 4,
   "metadata": {
    "collapsed": true
   },
   "outputs": [],
   "source": [
    "R0vals = np.arange (R0min, R0max, R0stepsize)\n",
    "def herdThreshold (R0):\n",
    "    return 1-1/R0;\n",
    "\n",
    "herdThresholdVals = herdThreshold (R0vals)\n",
    "\n",
    "# uncomment to see values\n",
    "# print (herdThresholdVals);"
   ]
  },
  {
   "cell_type": "code",
   "execution_count": 5,
   "metadata": {
    "collapsed": false
   },
   "outputs": [
    {
     "name": "stdout",
     "output_type": "stream",
     "text": [
      "0.6\n",
      "0.75\n"
     ]
    }
   ],
   "source": [
    "print(herdThreshold (2.5));\n",
    "print(herdThreshold (4));"
   ]
  },
  {
   "cell_type": "code",
   "execution_count": 7,
   "metadata": {
    "collapsed": false
   },
   "outputs": [
    {
     "data": {
      "text/plain": [
       "Text(0.8, 0.45, '$R_0=2.5$, herd = 0.6')"
      ]
     },
     "execution_count": 7,
     "metadata": {},
     "output_type": "execute_result"
    },
    {
     "data": {
      "image/png": "[encoded data removed]",
      "text/plain": [
       "<Figure size 432x288 with 1 Axes>"
      ]
     },
     "metadata": {
      "needs_background": "light"
     },
     "output_type": "display_data"
    }
   ],
   "source": [
    "plt.autoscale(enable=True, axis='x', tight=True)\n",
    "plt.rcParams.update({'font.size': 18})\n",
    "plt.plot(R0vals, herdThresholdVals, '-', color=\"#348ABD\", label='$Herd Immunity$', lw=4)\n",
    "plt.xlabel('$R_0$')\n",
    "plt.ylabel('Herd Immunity')\n",
    "\n",
    "# https://matplotlib.org/tutorials/text/annotations.html\n",
    "# https://stackoverflow.com/questions/16948256/cannot-concatenate-str-and-float-objects\n",
    "plt.annotate('flu $R_0=1.3$, herd = ' + str(round(herdThreshold(1.3),2)),xy=(1.3,herdThreshold(1.3)), xycoords='data',xytext=(0.8, 0.25), textcoords='axes fraction',\n",
    "            arrowprops=dict(facecolor='red', shrink=0.05),\n",
    "            horizontalalignment='right', verticalalignment='top')\n",
    "plt.annotate('$R_0=2.5$, herd = ' + str(herdThreshold(2.5)),xy=(2.5,herdThreshold(2.5)), xycoords='data',xytext=(0.8, 0.45), textcoords='axes fraction',\n",
    "            arrowprops=dict(facecolor='green', shrink=0.05),\n",
    "            horizontalalignment='right', verticalalignment='top')\n",
    "\n",
    "#https://stackoverflow.com/questions/21288062/second-y-axis-label-getting-cut-off\n",
    "# plt.savefig(\"/Users/philip/Desktop/herdimmunity.pdf\", bbox_inches='tight');"
   ]
  },
  {
   "cell_type": "code",
   "execution_count": null,
   "metadata": {
    "collapsed": true
   },
   "outputs": [],
   "source": []
  }
 ],
 "metadata": {
  "kernelspec": {
   "display_name": "Python 3",
   "language": "python",
   "name": "python3"
  },
  "language_info": {
   "codemirror_mode": {
    "name": "ipython",
    "version": 3
   },
   "file_extension": ".py",
   "mimetype": "text/x-python",
   "name": "python",
   "nbconvert_exporter": "python",
   "pygments_lexer": "ipython3",
   "version": "3.6.0"
  }
 },
 "nbformat": 4,
 "nbformat_minor": 2
}
